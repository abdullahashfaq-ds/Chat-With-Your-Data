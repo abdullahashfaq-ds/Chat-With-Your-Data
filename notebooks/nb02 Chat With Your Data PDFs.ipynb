{
 "cells": [
  {
   "cell_type": "markdown",
   "id": "57bde1cc-c590-4b5b-8357-7ede9cf7d792",
   "metadata": {},
   "source": [
    "# CHAT WITH YOUR DATA - PDFs\n",
    "\n",
    "1. [Document Loading](#Document-Loading)\n",
    "2. [Document Splitting](#Document-Splitting)\n",
    "3. [Vector Stores & Embeddings](#Vector-Stores-&-Embeddings)\n",
    "4. [Retrieval](#Retrieval)\n",
    "5. [Question Answering](#Question-Answering)"
   ]
  },
  {
   "cell_type": "markdown",
   "id": "63119bf9-9924-4947-a55c-30a096f0ebb7",
   "metadata": {},
   "source": [
    "<img src='../data/images/rag_workflow.jpeg' alt='RAG Workflow'>"
   ]
  },
  {
   "cell_type": "code",
   "execution_count": 1,
   "id": "50702e75-f82d-4d05-8496-8c7e9078f33d",
   "metadata": {},
   "outputs": [],
   "source": [
    "import os\n",
    "from pathlib import Path\n",
    "from dotenv import load_dotenv\n",
    "\n",
    "env_path = Path('..') / '.env'\n",
    "_ = load_dotenv(dotenv_path=env_path)\n",
    "\n",
    "db_credentials = {\n",
    "    'username': os.getenv('DB_USERNAME'),\n",
    "    'password': os.getenv('DB_PASSWORD'),\n",
    "    'host': os.getenv('DB_HOST'),\n",
    "    'name': os.getenv('DB_NAME')\n",
    "}\n",
    "\n",
    "if not all(db_credentials.values()):\n",
    "    raise ValueError('One or more environment variables are missing.')"
   ]
  },
  {
   "cell_type": "code",
   "execution_count": 2,
   "id": "450dc8c4-b00a-4040-801d-fedb301a73fd",
   "metadata": {},
   "outputs": [],
   "source": [
    "import warnings\n",
    "\n",
    "warnings.filterwarnings('ignore')"
   ]
  },
  {
   "cell_type": "markdown",
   "id": "0bb4431a-091a-4911-a400-a75cdb91fa1b",
   "metadata": {},
   "source": [
    "## Google Palm"
   ]
  },
  {
   "cell_type": "code",
   "execution_count": 3,
   "id": "3d3b756d-06f5-47cd-89c4-6b325202f397",
   "metadata": {},
   "outputs": [],
   "source": [
    "from langchain.llms import GooglePalm"
   ]
  },
  {
   "cell_type": "code",
   "execution_count": 5,
   "id": "5b4363fe-f649-4287-937e-c4e26775f52f",
   "metadata": {},
   "outputs": [],
   "source": [
    "llm = GooglePalm(google_api_key=os.environ[\"GOOGLE_API_KEY\"], temperature=0)"
   ]
  },
  {
   "cell_type": "markdown",
   "id": "e87072f5-af20-414b-b3d2-d9a78158bc7f",
   "metadata": {},
   "source": [
    "## Document Loading"
   ]
  },
  {
   "cell_type": "code",
   "execution_count": 6,
   "id": "322c4bbe-22c3-4884-bfaa-269fba3bdf67",
   "metadata": {},
   "outputs": [],
   "source": [
    "from langchain.chains import create_sql_query_chain\n",
    "from langchain.document_loaders import PyPDFLoader, WebBaseLoader\n",
    "from langchain_community.utilities.sql_database import SQLDatabase\n",
    "from langchain_community.tools.sql_database.tool import QuerySQLDataBaseTool"
   ]
  },
  {
   "cell_type": "markdown",
   "id": "36251a4b-312d-4202-bf54-f280f8a7cf89",
   "metadata": {},
   "source": [
    "### SQL Loader"
   ]
  },
  {
   "cell_type": "code",
   "execution_count": 7,
   "id": "73d5cbe9-f97c-48a0-84b7-1883c80a9542",
   "metadata": {},
   "outputs": [],
   "source": [
    "database_uri = f'mysql+pymysql://{db_credentials[\"username\"]}:{db_credentials[\"password\"]}@{db_credentials[\"host\"]}/{db_credentials[\"name\"]}'\n",
    "\n",
    "db = SQLDatabase.from_uri(database_uri)"
   ]
  },
  {
   "cell_type": "code",
   "execution_count": 8,
   "id": "fbf1ec56-b0d7-4a8b-86c8-4740972fae13",
   "metadata": {},
   "outputs": [
    {
     "name": "stdout",
     "output_type": "stream",
     "text": [
      "Dialect: mysql\n",
      "Table Names: ['blog', 'user']\n"
     ]
    }
   ],
   "source": [
    "print(f'Dialect: {db.dialect}')\n",
    "print(f'Table Names: {db.get_usable_table_names()}')"
   ]
  },
  {
   "cell_type": "code",
   "execution_count": 9,
   "id": "301a8784-4777-4d69-8d34-d18dbf37f739",
   "metadata": {},
   "outputs": [],
   "source": [
    "generate_query = create_sql_query_chain(llm, db)\n",
    "execute_query = QuerySQLDataBaseTool(db=db)"
   ]
  },
  {
   "cell_type": "code",
   "execution_count": 10,
   "id": "0c797f21-3efd-44d1-9f0f-af653eb4716e",
   "metadata": {},
   "outputs": [
    {
     "data": {
      "text/plain": [
       "'SELECT COUNT(*) FROM blog'"
      ]
     },
     "execution_count": 10,
     "metadata": {},
     "output_type": "execute_result"
    }
   ],
   "source": [
    "query = generate_query.invoke({'question': 'What is the total number of blogs in the database?'})\n",
    "query"
   ]
  },
  {
   "cell_type": "code",
   "execution_count": 11,
   "id": "3625129a-7855-4539-9632-8d8697b1cf7b",
   "metadata": {},
   "outputs": [
    {
     "name": "stdout",
     "output_type": "stream",
     "text": [
      "Type: <class 'str'>\n",
      "Result: [(3,)]\n"
     ]
    }
   ],
   "source": [
    "result = execute_query.invoke(query)\n",
    "\n",
    "print(f'Type: {type(result)}')\n",
    "print(f'Result: {result}')"
   ]
  },
  {
   "cell_type": "code",
   "execution_count": 12,
   "id": "9ce44039-0975-41ed-b2f4-62b92bca3c1e",
   "metadata": {},
   "outputs": [
    {
     "data": {
      "text/plain": [
       "'SELECT blog_id, user_id, title, content, created_at FROM blog'"
      ]
     },
     "execution_count": 12,
     "metadata": {},
     "output_type": "execute_result"
    }
   ],
   "source": [
    "query = generate_query.invoke({'question': 'Give me all the details of the blogs.'})\n",
    "query"
   ]
  },
  {
   "cell_type": "code",
   "execution_count": 13,
   "id": "a379d1a6-c001-4ae9-816d-f4ef74d3c79a",
   "metadata": {},
   "outputs": [
    {
     "name": "stdout",
     "output_type": "stream",
     "text": [
      "Type: <class 'str'>\n",
      "Result: [(1, 1, 'First Blog Post', 'This is the content of the first blog post.', datetime.datetime(2024, 5, 24, 16, 44, 22)), (2, 1, 'Second Blog Post', 'This is the content of the second blog post.', datetime.datetime(2024, 5, 24, 16, 44, 22)), (3, 2, \"Jane's Blog Post\", \"This is the content of Jane's blog post.\", datetime.datetime(2024, 5, 24, 16, 44, 22))]\n"
     ]
    }
   ],
   "source": [
    "result = execute_query.invoke(query)\n",
    "\n",
    "print(f'Type: {type(result)}')\n",
    "print(f'Result: {result}')"
   ]
  },
  {
   "cell_type": "markdown",
   "id": "ef2bb767-b9f0-43f2-90d2-c8a15a4e869a",
   "metadata": {},
   "source": [
    "### PDF Loader"
   ]
  },
  {
   "cell_type": "code",
   "execution_count": 14,
   "id": "a2ba3812-acec-47bc-af5f-1f2b6a07b0cf",
   "metadata": {},
   "outputs": [],
   "source": [
    "loader = PyPDFLoader(r'../data/pdfs/chatbot_description.pdf')\n",
    "pages = loader.load()"
   ]
  },
  {
   "cell_type": "code",
   "execution_count": 15,
   "id": "9c8c680c-dce7-4284-8dad-df5a1d937886",
   "metadata": {
    "scrolled": true
   },
   "outputs": [
    {
     "name": "stdout",
     "output_type": "stream",
     "text": [
      "Total Length: 2\n",
      "\n",
      "Page no. 1\n",
      "{'source': '../data/pdfs/chatbot_description.pdf', 'page': 0}\n",
      " \n",
      "Client Support Chatbot  \n",
      " \n",
      "Objectives  \n",
      "• Automate FAQs   \n",
      "Provide immediate, accurate answers to frequently asked questions, reducing the need for \n",
      "human intervention. The chatbot will use natural language processing to understand and \n",
      "respond to a variety of question formats and phrasings, ensuring users receive p rompt and \n",
      "relevant information without having to navigate through extensive content manually.  \n",
      " \n",
      "• Consultation Scheduling   \n",
      "Enable clients to schedule consultations directly through the chatbot interface. By \n",
      "integrating with the calendar system, the chatbot can offer real -time availability and booking \n",
      "confirmations, making the scheduling process seamless and efficient for both clients and \n",
      "service providers . \n",
      " \n",
      "• Personalized Service Recommendations  \n",
      "Analyze user preferences, past interactions, and inputs to suggest tailored services. \n",
      "Leveraging machine learning algorithms, the chatbot will continuously improve \n",
      "recommendation accuracy, providing users with suggestions that best meet their needs and \n",
      "enhancing their overall experience.  \n",
      " \n",
      "• Content Navigation Assistance  \n",
      "Assist users in finding relevant content on the website quickly and efficiently. The chatbot \n",
      "will offer search functionality and guide users through the website's structure, helping them \n",
      "locate specific information without frustration, thereby improving us er satisfaction and \n",
      "engagement.  \n",
      " \n",
      "Additional Features  \n",
      "• Personality and Tone   \n",
      "Develop a friendly and engaging personality for the chatbot to enhance user interaction. By \n",
      "customizing the tone of responses to match the brand's voice, the chatbot will appeal to the \n",
      "target audience, making the interaction feel more personal and enjoyabl e. \n",
      " \n",
      "• Personalization  \n",
      "Tailor responses based on user data, such as previous interactions, preferences, and \n",
      "behavior. Implementing user profiles allows the chatbot to store interaction history and \n",
      "provide more personalized experiences, creating a sense of familiarity and reliabi lity for \n",
      "returning users.  \n",
      " \n",
      "• Easter Eggs and Fun Facts  \n",
      "Include hidden features, interesting facts, and playful elements to surprise and delight \n",
      "users. Engaging users with occasional trivia or fun interactions will make the experience \n",
      "more enjoyable, encouraging repeated use and enhancing user satisfaction.  \n",
      " \n",
      " \n",
      "\n",
      "Page no. 2\n",
      "{'source': '../data/pdfs/chatbot_description.pdf', 'page': 1}\n",
      "• Real -Time Updates and News  \n",
      "Provide users with the latest updates, news, and announcements directly through the \n",
      "chatbot. By integrating with news feeds and internal update systems, the chatbot ensures \n",
      "timely information delivery, keeping users informed and up -to-date with the most re cent \n",
      "developments.  \n",
      " \n",
      "• Multi -Language Support  \n",
      "Offer support for multiple languages to cater to a diverse audience. Utilizing language \n",
      "detection and translation services, the chatbot will handle interactions in different languages \n",
      "seamlessly, breaking down language barriers and expanding its usability.  \n",
      " \n",
      "• Voice Integration  \n",
      "Incorporate speech -to-text and text -to-speech capabilities to allow for voice interactions. \n",
      "This feature enhances accessibility and user experience by enabling users to interact with \n",
      "the chatbot through voice commands, making it more convenient and user -friendly, \n",
      "especially for those who prefer or require voice interaction.  \n",
      " \n",
      "\n"
     ]
    }
   ],
   "source": [
    "total_pages = len(pages)\n",
    "print(f'Total Length: {total_pages}\\n')\n",
    "\n",
    "for i in range(total_pages):\n",
    "    print(f'Page no. {i+1}')\n",
    "    print(f'{pages[i].metadata}')\n",
    "    print(f'{pages[i].page_content}\\n')"
   ]
  },
  {
   "cell_type": "markdown",
   "id": "3269982f-da53-438b-b6ea-31847b32b1fb",
   "metadata": {},
   "source": [
    "## Document Splitting"
   ]
  },
  {
   "cell_type": "code",
   "execution_count": 16,
   "id": "afd1a10c-105e-4aba-a340-0b778dfb78fe",
   "metadata": {},
   "outputs": [],
   "source": [
    "from langchain.text_splitter import RecursiveCharacterTextSplitter"
   ]
  },
  {
   "cell_type": "code",
   "execution_count": 17,
   "id": "32695661-a2ef-4671-8b86-3068a845395f",
   "metadata": {},
   "outputs": [],
   "source": [
    "def get_content(docs):\n",
    "    total_docs = len(docs)\n",
    "    output = f'Total Length: {total_docs}\\n\\n'\n",
    "    \n",
    "    for i in range(total_docs):\n",
    "        output += f'Document no. {i+1}\\n'\n",
    "        output += f'{docs[i].metadata}\\n'\n",
    "        output += f'{docs[i].page_content}\\n\\n'\n",
    "    \n",
    "    return output"
   ]
  },
  {
   "cell_type": "code",
   "execution_count": 18,
   "id": "75f8e550-3c3e-4431-9dae-478552ac2ce0",
   "metadata": {},
   "outputs": [],
   "source": [
    "r_splitter = RecursiveCharacterTextSplitter(\n",
    "    chunk_size=450,\n",
    "    chunk_overlap=50, \n",
    "    separators=['\\n\\n', '\\n', '(?<=\\. )', ' ', '']\n",
    ")"
   ]
  },
  {
   "cell_type": "code",
   "execution_count": 19,
   "id": "1548b473-88d3-4733-b1a2-883b32309e77",
   "metadata": {},
   "outputs": [],
   "source": [
    "r_splitter_docs = r_splitter.split_documents(pages)"
   ]
  },
  {
   "cell_type": "code",
   "execution_count": 20,
   "id": "3dbcfcbb-1249-4bd7-b87c-b6059a4b3bd0",
   "metadata": {
    "scrolled": true
   },
   "outputs": [
    {
     "name": "stdout",
     "output_type": "stream",
     "text": [
      "Total Length: 10\n",
      "\n",
      "Document no. 1\n",
      "{'source': '../data/pdfs/chatbot_description.pdf', 'page': 0}\n",
      "Client Support Chatbot  \n",
      " \n",
      "Objectives  \n",
      "• Automate FAQs   \n",
      "Provide immediate, accurate answers to frequently asked questions, reducing the need for \n",
      "human intervention. The chatbot will use natural language processing to understand and \n",
      "respond to a variety of question formats and phrasings, ensuring users receive p rompt and \n",
      "relevant information without having to navigate through extensive content manually.  \n",
      " \n",
      "• Consultation Scheduling\n",
      "\n",
      "Document no. 2\n",
      "{'source': '../data/pdfs/chatbot_description.pdf', 'page': 0}\n",
      "• Consultation Scheduling   \n",
      "Enable clients to schedule consultations directly through the chatbot interface. By \n",
      "integrating with the calendar system, the chatbot can offer real -time availability and booking \n",
      "confirmations, making the scheduling process seamless and efficient for both clients and \n",
      "service providers . \n",
      " \n",
      "• Personalized Service Recommendations\n",
      "\n",
      "Document no. 3\n",
      "{'source': '../data/pdfs/chatbot_description.pdf', 'page': 0}\n",
      "• Personalized Service Recommendations  \n",
      "Analyze user preferences, past interactions, and inputs to suggest tailored services. \n",
      "Leveraging machine learning algorithms, the chatbot will continuously improve \n",
      "recommendation accuracy, providing users with suggestions that best meet their needs and \n",
      "enhancing their overall experience.  \n",
      " \n",
      "• Content Navigation Assistance\n",
      "\n",
      "Document no. 4\n",
      "{'source': '../data/pdfs/chatbot_description.pdf', 'page': 0}\n",
      "• Content Navigation Assistance  \n",
      "Assist users in finding relevant content on the website quickly and efficiently. The chatbot \n",
      "will offer search functionality and guide users through the website's structure, helping them \n",
      "locate specific information without frustration, thereby improving us er satisfaction and \n",
      "engagement.  \n",
      " \n",
      "Additional Features  \n",
      "• Personality and Tone\n",
      "\n",
      "Document no. 5\n",
      "{'source': '../data/pdfs/chatbot_description.pdf', 'page': 0}\n",
      "Additional Features  \n",
      "• Personality and Tone   \n",
      "Develop a friendly and engaging personality for the chatbot to enhance user interaction. By \n",
      "customizing the tone of responses to match the brand's voice, the chatbot will appeal to the \n",
      "target audience, making the interaction feel more personal and enjoyabl e. \n",
      " \n",
      "• Personalization  \n",
      "Tailor responses based on user data, such as previous interactions, preferences, and\n",
      "\n",
      "Document no. 6\n",
      "{'source': '../data/pdfs/chatbot_description.pdf', 'page': 0}\n",
      "behavior. Implementing user profiles allows the chatbot to store interaction history and \n",
      "provide more personalized experiences, creating a sense of familiarity and reliabi lity for \n",
      "returning users.  \n",
      " \n",
      "• Easter Eggs and Fun Facts  \n",
      "Include hidden features, interesting facts, and playful elements to surprise and delight \n",
      "users. Engaging users with occasional trivia or fun interactions will make the experience\n",
      "\n",
      "Document no. 7\n",
      "{'source': '../data/pdfs/chatbot_description.pdf', 'page': 0}\n",
      "more enjoyable, encouraging repeated use and enhancing user satisfaction.\n",
      "\n",
      "Document no. 8\n",
      "{'source': '../data/pdfs/chatbot_description.pdf', 'page': 1}\n",
      "• Real -Time Updates and News  \n",
      "Provide users with the latest updates, news, and announcements directly through the \n",
      "chatbot. By integrating with news feeds and internal update systems, the chatbot ensures \n",
      "timely information delivery, keeping users informed and up -to-date with the most re cent \n",
      "developments.  \n",
      " \n",
      "• Multi -Language Support  \n",
      "Offer support for multiple languages to cater to a diverse audience. Utilizing language\n",
      "\n",
      "Document no. 9\n",
      "{'source': '../data/pdfs/chatbot_description.pdf', 'page': 1}\n",
      "detection and translation services, the chatbot will handle interactions in different languages \n",
      "seamlessly, breaking down language barriers and expanding its usability.  \n",
      " \n",
      "• Voice Integration  \n",
      "Incorporate speech -to-text and text -to-speech capabilities to allow for voice interactions. \n",
      "This feature enhances accessibility and user experience by enabling users to interact with\n",
      "\n",
      "Document no. 10\n",
      "{'source': '../data/pdfs/chatbot_description.pdf', 'page': 1}\n",
      "the chatbot through voice commands, making it more convenient and user -friendly, \n",
      "especially for those who prefer or require voice interaction.\n",
      "\n",
      "\n"
     ]
    }
   ],
   "source": [
    "content = get_content(r_splitter_docs)\n",
    "print(content)"
   ]
  },
  {
   "cell_type": "markdown",
   "id": "faa78057-8fe8-4a65-a5b5-c5e89b291e8c",
   "metadata": {},
   "source": [
    "## Vector Stores & Embeddings"
   ]
  },
  {
   "cell_type": "code",
   "execution_count": 21,
   "id": "d2bffdf8-1fa9-4160-af9c-f1e25eae062d",
   "metadata": {},
   "outputs": [],
   "source": [
    "from langchain.vectorstores import Chroma\n",
    "from langchain.embeddings import GooglePalmEmbeddings"
   ]
  },
  {
   "cell_type": "code",
   "execution_count": 22,
   "id": "6013b3d7-c8fe-4c25-9666-f701d57cce5d",
   "metadata": {},
   "outputs": [],
   "source": [
    "embedding = GooglePalmEmbeddings()"
   ]
  },
  {
   "cell_type": "code",
   "execution_count": 23,
   "id": "85e6de1f-6d5b-451e-acc0-4806fcf353e9",
   "metadata": {},
   "outputs": [
    {
     "name": "stdout",
     "output_type": "stream",
     "text": [
      "Total Length: 768, 768\n",
      "Similarity Score: 0.6409481923464352\n",
      "\n",
      "[-0.03758112, 0.0025011664, -0.0037450416, 0.05306987, 0.054309156]\n",
      "[0.009226829, -0.0013863699, -0.039381962, 0.08616447, 0.048203044]\n"
     ]
    }
   ],
   "source": [
    "import numpy as np\n",
    "\n",
    "sentence1 = 'Coffee fuels productivity.'\n",
    "sentence2 = 'Sitting breaks boost programmer health.'\n",
    "\n",
    "result1 = embedding.embed_query(sentence1)\n",
    "result2 = embedding.embed_query(sentence2)\n",
    "\n",
    "print(f'Total Length: {len(result1)}, {len(result2)}')\n",
    "print(f'Similarity Score: {np.dot(result1, result2)}\\n')\n",
    "print(result1[:5])\n",
    "print(result2[:5])"
   ]
  },
  {
   "cell_type": "code",
   "execution_count": 24,
   "id": "d0fa1d84-22f8-42fd-aa64-f48bef00c9ff",
   "metadata": {},
   "outputs": [],
   "source": [
    "vectordb = Chroma.from_documents(\n",
    "    documents=r_splitter_docs,\n",
    "    embedding=embedding,\n",
    "    persist_directory='../data/vector_db/chroma_pdfs/'\n",
    ")"
   ]
  },
  {
   "cell_type": "code",
   "execution_count": 25,
   "id": "869aea86-2fb6-4761-94db-94a9ae660473",
   "metadata": {},
   "outputs": [
    {
     "name": "stdout",
     "output_type": "stream",
     "text": [
      "Collection Count: 10\n"
     ]
    }
   ],
   "source": [
    "print(f'Collection Count: {vectordb._collection.count()}')"
   ]
  },
  {
   "cell_type": "markdown",
   "id": "ba72bb7d-cfe6-4216-92c3-7e95f1bca061",
   "metadata": {},
   "source": [
    "## Retrieval\n",
    "\n",
    "- Similarity Search\n",
    "- Maximum Marginal Relevance\n",
    "- Self Query Retriever\n",
    "- Contextual Compression Retriever"
   ]
  },
  {
   "cell_type": "code",
   "execution_count": 26,
   "id": "318e1ba4-5b2d-42bb-b729-6c58220f905a",
   "metadata": {},
   "outputs": [],
   "source": [
    "from langchain.retrievers.self_query.base import SelfQueryRetriever\n",
    "from langchain.chains.query_constructor.base import AttributeInfo\n",
    "from langchain.retrievers import ContextualCompressionRetriever\n",
    "from langchain.retrievers.document_compressors import LLMChainExtractor"
   ]
  },
  {
   "cell_type": "code",
   "execution_count": 27,
   "id": "f3c42db1-61f8-4e5e-8f08-f0bd55d42392",
   "metadata": {},
   "outputs": [],
   "source": [
    "question = 'What are the main features included in this chatbot?'"
   ]
  },
  {
   "cell_type": "code",
   "execution_count": 28,
   "id": "aa5a717b-cf89-43ee-9289-b81a757a3985",
   "metadata": {
    "scrolled": true
   },
   "outputs": [
    {
     "name": "stdout",
     "output_type": "stream",
     "text": [
      "Total Length: 4\n",
      "\n",
      "Document no. 1\n",
      "{'page': 0, 'source': '../data/pdfs/chatbot_description.pdf'}\n",
      "• Content Navigation Assistance  \n",
      "Assist users in finding relevant content on the website quickly and efficiently. The chatbot \n",
      "will offer search functionality and guide users through the website's structure, helping them \n",
      "locate specific information without frustration, thereby improving us er satisfaction and \n",
      "engagement.  \n",
      " \n",
      "Additional Features  \n",
      "• Personality and Tone\n",
      "\n",
      "Document no. 2\n",
      "{'page': 0, 'source': '../data/pdfs/chatbot_description.pdf'}\n",
      "Client Support Chatbot  \n",
      " \n",
      "Objectives  \n",
      "• Automate FAQs   \n",
      "Provide immediate, accurate answers to frequently asked questions, reducing the need for \n",
      "human intervention. The chatbot will use natural language processing to understand and \n",
      "respond to a variety of question formats and phrasings, ensuring users receive p rompt and \n",
      "relevant information without having to navigate through extensive content manually.  \n",
      " \n",
      "• Consultation Scheduling\n",
      "\n",
      "Document no. 3\n",
      "{'page': 1, 'source': '../data/pdfs/chatbot_description.pdf'}\n",
      "• Real -Time Updates and News  \n",
      "Provide users with the latest updates, news, and announcements directly through the \n",
      "chatbot. By integrating with news feeds and internal update systems, the chatbot ensures \n",
      "timely information delivery, keeping users informed and up -to-date with the most re cent \n",
      "developments.  \n",
      " \n",
      "• Multi -Language Support  \n",
      "Offer support for multiple languages to cater to a diverse audience. Utilizing language\n",
      "\n",
      "Document no. 4\n",
      "{'page': 1, 'source': '../data/pdfs/chatbot_description.pdf'}\n",
      "detection and translation services, the chatbot will handle interactions in different languages \n",
      "seamlessly, breaking down language barriers and expanding its usability.  \n",
      " \n",
      "• Voice Integration  \n",
      "Incorporate speech -to-text and text -to-speech capabilities to allow for voice interactions. \n",
      "This feature enhances accessibility and user experience by enabling users to interact with\n",
      "\n",
      "\n"
     ]
    }
   ],
   "source": [
    "docs_ss = vectordb.similarity_search(question, k=4, filter=None)\n",
    "\n",
    "result = get_content(docs_ss)\n",
    "print(result)"
   ]
  },
  {
   "cell_type": "code",
   "execution_count": 29,
   "id": "f9700acd-88b4-49ea-9a13-dbf392051ab8",
   "metadata": {
    "scrolled": true
   },
   "outputs": [
    {
     "name": "stderr",
     "output_type": "stream",
     "text": [
      "Number of requested results 20 is greater than number of elements in index 10, updating n_results = 10\n"
     ]
    },
    {
     "name": "stdout",
     "output_type": "stream",
     "text": [
      "Total Length: 4\n",
      "\n",
      "Document no. 1\n",
      "{'page': 0, 'source': '../data/pdfs/chatbot_description.pdf'}\n",
      "• Content Navigation Assistance  \n",
      "Assist users in finding relevant content on the website quickly and efficiently. The chatbot \n",
      "will offer search functionality and guide users through the website's structure, helping them \n",
      "locate specific information without frustration, thereby improving us er satisfaction and \n",
      "engagement.  \n",
      " \n",
      "Additional Features  \n",
      "• Personality and Tone\n",
      "\n",
      "Document no. 2\n",
      "{'page': 0, 'source': '../data/pdfs/chatbot_description.pdf'}\n",
      "Client Support Chatbot  \n",
      " \n",
      "Objectives  \n",
      "• Automate FAQs   \n",
      "Provide immediate, accurate answers to frequently asked questions, reducing the need for \n",
      "human intervention. The chatbot will use natural language processing to understand and \n",
      "respond to a variety of question formats and phrasings, ensuring users receive p rompt and \n",
      "relevant information without having to navigate through extensive content manually.  \n",
      " \n",
      "• Consultation Scheduling\n",
      "\n",
      "Document no. 3\n",
      "{'page': 1, 'source': '../data/pdfs/chatbot_description.pdf'}\n",
      "detection and translation services, the chatbot will handle interactions in different languages \n",
      "seamlessly, breaking down language barriers and expanding its usability.  \n",
      " \n",
      "• Voice Integration  \n",
      "Incorporate speech -to-text and text -to-speech capabilities to allow for voice interactions. \n",
      "This feature enhances accessibility and user experience by enabling users to interact with\n",
      "\n",
      "Document no. 4\n",
      "{'page': 0, 'source': '../data/pdfs/chatbot_description.pdf'}\n",
      "behavior. Implementing user profiles allows the chatbot to store interaction history and \n",
      "provide more personalized experiences, creating a sense of familiarity and reliabi lity for \n",
      "returning users.  \n",
      " \n",
      "• Easter Eggs and Fun Facts  \n",
      "Include hidden features, interesting facts, and playful elements to surprise and delight \n",
      "users. Engaging users with occasional trivia or fun interactions will make the experience\n",
      "\n",
      "\n"
     ]
    }
   ],
   "source": [
    "docs_mmr = vectordb.max_marginal_relevance_search(question, k=4)\n",
    "\n",
    "result = get_content(docs_mmr)\n",
    "print(result)"
   ]
  },
  {
   "cell_type": "code",
   "execution_count": 30,
   "id": "1d3936fe-1549-473f-891d-56169dcc8cca",
   "metadata": {
    "scrolled": true
   },
   "outputs": [
    {
     "name": "stderr",
     "output_type": "stream",
     "text": [
      "Number of requested results 20 is greater than number of elements in index 10, updating n_results = 10\n"
     ]
    },
    {
     "name": "stdout",
     "output_type": "stream",
     "text": [
      "Total Length: 4\n",
      "\n",
      "Document no. 1\n",
      "{'page': 0, 'source': '../data/pdfs/chatbot_description.pdf'}\n",
      "• Content Navigation Assistance  \n",
      "Assist users in finding relevant content on the website quickly and efficiently. The chatbot \n",
      "will offer search functionality and guide users through the website's structure, helping them \n",
      "locate specific information without frustration, thereby improving us er satisfaction and \n",
      "engagement.  \n",
      " \n",
      "Additional Features  \n",
      "• Personality and Tone\n",
      "\n",
      "Document no. 2\n",
      "{'page': 0, 'source': '../data/pdfs/chatbot_description.pdf'}\n",
      "• Automate FAQs   \n",
      "Provide immediate, accurate answers to frequently asked questions, reducing the need for \n",
      "human intervention. The chatbot will use natural language processing to understand and \n",
      "respond to a variety of question formats and phrasings, ensuring users receive p rompt and \n",
      "relevant information without having to navigate through extensive content manually.  \n",
      " \n",
      "• Consultation Scheduling\n",
      "\n",
      "Document no. 3\n",
      "{'page': 1, 'source': '../data/pdfs/chatbot_description.pdf'}\n",
      "• Voice Integration  \n",
      "Incorporate speech -to-text and text -to-speech capabilities to allow for voice interactions. \n",
      "This feature enhances accessibility and user experience by enabling users to interact with\n",
      "\n",
      "Document no. 4\n",
      "{'page': 0, 'source': '../data/pdfs/chatbot_description.pdf'}\n",
      "• Easter Eggs and Fun Facts  \n",
      "Include hidden features, interesting facts, and playful elements to surprise and delight \n",
      "users. Engaging users with occasional trivia or fun interactions will make the experience\n",
      "\n",
      "\n"
     ]
    }
   ],
   "source": [
    "compression_retriever = ContextualCompressionRetriever(\n",
    "    base_compressor=LLMChainExtractor.from_llm(llm),\n",
    "    base_retriever=vectordb.as_retriever(search_type='mmr')\n",
    ")\n",
    "\n",
    "compressed_docs = compression_retriever.invoke(question)\n",
    "\n",
    "result = get_content(compressed_docs)\n",
    "print(result)"
   ]
  },
  {
   "cell_type": "markdown",
   "id": "fe601d2a-4bec-4b09-b9df-3b098bcfafbf",
   "metadata": {},
   "source": [
    "## Question Answering"
   ]
  },
  {
   "cell_type": "code",
   "execution_count": 31,
   "id": "cd3a2c53-5bd4-4d1c-9e36-cfc283c7969e",
   "metadata": {},
   "outputs": [],
   "source": [
    "from langchain.prompts import PromptTemplate\n",
    "from langchain.memory import ConversationBufferMemory\n",
    "from langchain.chains import RetrievalQA, ConversationalRetrievalChain"
   ]
  },
  {
   "cell_type": "markdown",
   "id": "9795b090-5d69-434b-919b-58f31f3c5020",
   "metadata": {},
   "source": [
    "### RetrievalQA Chain"
   ]
  },
  {
   "cell_type": "code",
   "execution_count": 32,
   "id": "9cf6978c-1be9-4317-9360-1ea919855647",
   "metadata": {},
   "outputs": [],
   "source": [
    "def process_qa_retrieval_chain(chain, query):\n",
    "    response = chain.invoke({'query': query})\n",
    "    \n",
    "    result_str = f'Query: {response[\"query\"]}\\n\\n'\n",
    "    result_str += f'Result: {response[\"result\"]}\\n\\n'\n",
    "    \n",
    "    relevant_docs = response['source_documents']\n",
    "    for i in range(len(relevant_docs)):\n",
    "        result_str += f'Relevant Doc {i+1}:\\n'\n",
    "        result_str += relevant_docs[i].page_content + '\\n'\n",
    "        result_str += str(relevant_docs[i].metadata) + '\\n\\n'\n",
    "    \n",
    "    return result_str"
   ]
  },
  {
   "cell_type": "code",
   "execution_count": 33,
   "id": "04fd8c2d-3c6f-436c-950d-16a40a882d0d",
   "metadata": {},
   "outputs": [],
   "source": [
    "template = \"\"\"Use the following pieces of context to answer the question at the end. If you don't know the answer, \n",
    "just say that you don't know, don't try to make up an answer. Use three sentences maximum. Keep the answer as concise as possible. \n",
    "Always say \"thanks for asking!\" at the end of the answer. \n",
    "{context}\n",
    "Question: {question}\n",
    "Helpful Answer:\"\"\"\n",
    "\n",
    "QA_CHAIN_PROMPT = PromptTemplate.from_template(template)"
   ]
  },
  {
   "cell_type": "code",
   "execution_count": 34,
   "id": "eeb22b15-d6a5-4db3-b11c-f9463ef07394",
   "metadata": {},
   "outputs": [],
   "source": [
    "qa_chain = RetrievalQA.from_chain_type(\n",
    "    llm,\n",
    "    retriever=vectordb.as_retriever(),\n",
    "    return_source_documents=True,\n",
    "    chain_type_kwargs={'prompt': QA_CHAIN_PROMPT}\n",
    ")"
   ]
  },
  {
   "cell_type": "code",
   "execution_count": 35,
   "id": "ca58ae4d-91a3-4154-853c-e7f6aa1c6b4e",
   "metadata": {
    "scrolled": true
   },
   "outputs": [
    {
     "name": "stdout",
     "output_type": "stream",
     "text": [
      "Query: What are the main features included in this chatbot?\n",
      "\n",
      "Result: The main features of this chatbot are: \n",
      "- Content Navigation Assistance\n",
      "- Automate FAQs\n",
      "- Consultation Scheduling\n",
      "- Real-Time Updates and News\n",
      "- Multi-Language Support\n",
      "- Voice Integration\n",
      "Thanks for asking!\n",
      "\n",
      "Relevant Doc 1:\n",
      "• Content Navigation Assistance  \n",
      "Assist users in finding relevant content on the website quickly and efficiently. The chatbot \n",
      "will offer search functionality and guide users through the website's structure, helping them \n",
      "locate specific information without frustration, thereby improving us er satisfaction and \n",
      "engagement.  \n",
      " \n",
      "Additional Features  \n",
      "• Personality and Tone\n",
      "{'page': 0, 'source': '../data/pdfs/chatbot_description.pdf'}\n",
      "\n",
      "Relevant Doc 2:\n",
      "Client Support Chatbot  \n",
      " \n",
      "Objectives  \n",
      "• Automate FAQs   \n",
      "Provide immediate, accurate answers to frequently asked questions, reducing the need for \n",
      "human intervention. The chatbot will use natural language processing to understand and \n",
      "respond to a variety of question formats and phrasings, ensuring users receive p rompt and \n",
      "relevant information without having to navigate through extensive content manually.  \n",
      " \n",
      "• Consultation Scheduling\n",
      "{'page': 0, 'source': '../data/pdfs/chatbot_description.pdf'}\n",
      "\n",
      "Relevant Doc 3:\n",
      "• Real -Time Updates and News  \n",
      "Provide users with the latest updates, news, and announcements directly through the \n",
      "chatbot. By integrating with news feeds and internal update systems, the chatbot ensures \n",
      "timely information delivery, keeping users informed and up -to-date with the most re cent \n",
      "developments.  \n",
      " \n",
      "• Multi -Language Support  \n",
      "Offer support for multiple languages to cater to a diverse audience. Utilizing language\n",
      "{'page': 1, 'source': '../data/pdfs/chatbot_description.pdf'}\n",
      "\n",
      "Relevant Doc 4:\n",
      "detection and translation services, the chatbot will handle interactions in different languages \n",
      "seamlessly, breaking down language barriers and expanding its usability.  \n",
      " \n",
      "• Voice Integration  \n",
      "Incorporate speech -to-text and text -to-speech capabilities to allow for voice interactions. \n",
      "This feature enhances accessibility and user experience by enabling users to interact with\n",
      "{'page': 1, 'source': '../data/pdfs/chatbot_description.pdf'}\n",
      "\n",
      "\n"
     ]
    }
   ],
   "source": [
    "result = process_qa_retrieval_chain(qa_chain, question)\n",
    "print(result)"
   ]
  },
  {
   "cell_type": "code",
   "execution_count": 41,
   "id": "ead8b419-68ca-4d1a-8767-19ee9b17801d",
   "metadata": {
    "scrolled": true
   },
   "outputs": [
    {
     "name": "stdout",
     "output_type": "stream",
     "text": [
      "Query: Tell me about Mars\n",
      "\n",
      "Result: Mars is the fourth planet from the Sun, and the second smallest planet in the Solar System after Mercury. Thanks for asking!\n",
      "\n",
      "Relevant Doc 1:\n",
      "• Real -Time Updates and News  \n",
      "Provide users with the latest updates, news, and announcements directly through the \n",
      "chatbot. By integrating with news feeds and internal update systems, the chatbot ensures \n",
      "timely information delivery, keeping users informed and up -to-date with the most re cent \n",
      "developments.  \n",
      " \n",
      "• Multi -Language Support  \n",
      "Offer support for multiple languages to cater to a diverse audience. Utilizing language\n",
      "{'page': 1, 'source': '../data/pdfs/chatbot_description.pdf'}\n",
      "\n",
      "Relevant Doc 2:\n",
      "• Content Navigation Assistance  \n",
      "Assist users in finding relevant content on the website quickly and efficiently. The chatbot \n",
      "will offer search functionality and guide users through the website's structure, helping them \n",
      "locate specific information without frustration, thereby improving us er satisfaction and \n",
      "engagement.  \n",
      " \n",
      "Additional Features  \n",
      "• Personality and Tone\n",
      "{'page': 0, 'source': '../data/pdfs/chatbot_description.pdf'}\n",
      "\n",
      "Relevant Doc 3:\n",
      "• Personalized Service Recommendations  \n",
      "Analyze user preferences, past interactions, and inputs to suggest tailored services. \n",
      "Leveraging machine learning algorithms, the chatbot will continuously improve \n",
      "recommendation accuracy, providing users with suggestions that best meet their needs and \n",
      "enhancing their overall experience.  \n",
      " \n",
      "• Content Navigation Assistance\n",
      "{'page': 0, 'source': '../data/pdfs/chatbot_description.pdf'}\n",
      "\n",
      "Relevant Doc 4:\n",
      "Client Support Chatbot  \n",
      " \n",
      "Objectives  \n",
      "• Automate FAQs   \n",
      "Provide immediate, accurate answers to frequently asked questions, reducing the need for \n",
      "human intervention. The chatbot will use natural language processing to understand and \n",
      "respond to a variety of question formats and phrasings, ensuring users receive p rompt and \n",
      "relevant information without having to navigate through extensive content manually.  \n",
      " \n",
      "• Consultation Scheduling\n",
      "{'page': 0, 'source': '../data/pdfs/chatbot_description.pdf'}\n",
      "\n",
      "\n"
     ]
    }
   ],
   "source": [
    "result = process_qa_retrieval_chain(qa_chain, 'Tell me about Mars')\n",
    "print(result)"
   ]
  },
  {
   "cell_type": "code",
   "execution_count": 42,
   "id": "5026872b-aeee-402c-aeeb-c6f3f036986c",
   "metadata": {},
   "outputs": [],
   "source": [
    "qa_chain_mr = RetrievalQA.from_chain_type(\n",
    "    llm,\n",
    "    retriever=vectordb.as_retriever(),\n",
    "    return_source_documents=True,\n",
    "    chain_type='map_reduce',\n",
    "    chain_type_kwargs={'question_prompt': QA_CHAIN_PROMPT}\n",
    ")"
   ]
  },
  {
   "cell_type": "code",
   "execution_count": 43,
   "id": "c22d04af-1a89-4dab-b211-ad2f4b6d3749",
   "metadata": {
    "scrolled": true
   },
   "outputs": [
    {
     "name": "stdout",
     "output_type": "stream",
     "text": [
      "Query: What are the main features included in this chatbot?\n",
      "\n",
      "Result: The main features included in this chatbot are content navigation assistance, personality and tone, automate FAQs, consultation scheduling, real-time updates and news, multi-language support, language detection and translation, and voice integration.\n",
      "\n",
      "Relevant Doc 1:\n",
      "• Content Navigation Assistance  \n",
      "Assist users in finding relevant content on the website quickly and efficiently. The chatbot \n",
      "will offer search functionality and guide users through the website's structure, helping them \n",
      "locate specific information without frustration, thereby improving us er satisfaction and \n",
      "engagement.  \n",
      " \n",
      "Additional Features  \n",
      "• Personality and Tone\n",
      "{'page': 0, 'source': '../data/pdfs/chatbot_description.pdf'}\n",
      "\n",
      "Relevant Doc 2:\n",
      "Client Support Chatbot  \n",
      " \n",
      "Objectives  \n",
      "• Automate FAQs   \n",
      "Provide immediate, accurate answers to frequently asked questions, reducing the need for \n",
      "human intervention. The chatbot will use natural language processing to understand and \n",
      "respond to a variety of question formats and phrasings, ensuring users receive p rompt and \n",
      "relevant information without having to navigate through extensive content manually.  \n",
      " \n",
      "• Consultation Scheduling\n",
      "{'page': 0, 'source': '../data/pdfs/chatbot_description.pdf'}\n",
      "\n",
      "Relevant Doc 3:\n",
      "• Real -Time Updates and News  \n",
      "Provide users with the latest updates, news, and announcements directly through the \n",
      "chatbot. By integrating with news feeds and internal update systems, the chatbot ensures \n",
      "timely information delivery, keeping users informed and up -to-date with the most re cent \n",
      "developments.  \n",
      " \n",
      "• Multi -Language Support  \n",
      "Offer support for multiple languages to cater to a diverse audience. Utilizing language\n",
      "{'page': 1, 'source': '../data/pdfs/chatbot_description.pdf'}\n",
      "\n",
      "Relevant Doc 4:\n",
      "detection and translation services, the chatbot will handle interactions in different languages \n",
      "seamlessly, breaking down language barriers and expanding its usability.  \n",
      " \n",
      "• Voice Integration  \n",
      "Incorporate speech -to-text and text -to-speech capabilities to allow for voice interactions. \n",
      "This feature enhances accessibility and user experience by enabling users to interact with\n",
      "{'page': 1, 'source': '../data/pdfs/chatbot_description.pdf'}\n",
      "\n",
      "\n"
     ]
    }
   ],
   "source": [
    "result = process_qa_retrieval_chain(qa_chain_mr, question)\n",
    "print(result)"
   ]
  },
  {
   "cell_type": "markdown",
   "id": "a6dbee42-0b3f-4bb7-b8b6-8e03ce37bb59",
   "metadata": {},
   "source": [
    "### Conversational Retrieval Chain"
   ]
  },
  {
   "cell_type": "code",
   "execution_count": 44,
   "id": "70a1c28b-ced7-4344-a463-40e7c53e410b",
   "metadata": {},
   "outputs": [],
   "source": [
    "memory = ConversationBufferMemory(\n",
    "    memory_key=\"chat_history\",\n",
    "    return_messages=True\n",
    ")"
   ]
  },
  {
   "cell_type": "code",
   "execution_count": 45,
   "id": "4104be1b-419f-4bff-8048-9b6d95382eec",
   "metadata": {},
   "outputs": [],
   "source": [
    "qa_chain_cr = ConversationalRetrievalChain.from_llm(\n",
    "    llm,\n",
    "    memory=memory,\n",
    "    retriever=vectordb.as_retriever(),\n",
    ")"
   ]
  },
  {
   "cell_type": "code",
   "execution_count": 46,
   "id": "ea6b4e59-f64d-4d3d-98b8-a847a39444ba",
   "metadata": {},
   "outputs": [],
   "source": [
    "def process_conversational_retrieval_chain(chain, question):\n",
    "    result = chain.invoke({'question': question})\n",
    "    output_str = f'Query: {result[\"question\"]}\\n'\n",
    "    \n",
    "    total_length = len(result['chat_history'])\n",
    "    output_str += f'Total Memory: {total_length}\\n'\n",
    "    \n",
    "    for i in range(total_length):\n",
    "        output_str += f'#{i+1}.\\n'\n",
    "        output_str += result['chat_history'][i].content + '\\n\\n'\n",
    "    \n",
    "    return output_str"
   ]
  },
  {
   "cell_type": "code",
   "execution_count": 47,
   "id": "a071e8d8-fe66-4968-9b42-ddd3f3706199",
   "metadata": {},
   "outputs": [
    {
     "name": "stdout",
     "output_type": "stream",
     "text": [
      "Query: What are the main features included in this chatbot?\n",
      "Total Memory: 2\n",
      "#1.\n",
      "What are the main features included in this chatbot?\n",
      "\n",
      "#2.\n",
      "The main features included in this chatbot are:\n",
      "\n",
      "- Content Navigation Assistance\n",
      "- Automate FAQs\n",
      "- Consultation Scheduling\n",
      "- Real-Time Updates and News\n",
      "- Multi-Language Support\n",
      "- Voice Integration\n",
      "\n",
      "\n"
     ]
    }
   ],
   "source": [
    "result = process_conversational_retrieval_chain(qa_chain_cr, question)\n",
    "print(result)"
   ]
  },
  {
   "cell_type": "code",
   "execution_count": 48,
   "id": "2270af30-d7c9-4531-b38c-a19c4c7bf6b4",
   "metadata": {
    "scrolled": true
   },
   "outputs": [
    {
     "name": "stdout",
     "output_type": "stream",
     "text": [
      "Query: Tell me more about Automate FAQs\n",
      "Total Memory: 4\n",
      "#1.\n",
      "What are the main features included in this chatbot?\n",
      "\n",
      "#2.\n",
      "The main features included in this chatbot are:\n",
      "\n",
      "- Content Navigation Assistance\n",
      "- Automate FAQs\n",
      "- Consultation Scheduling\n",
      "- Real-Time Updates and News\n",
      "- Multi-Language Support\n",
      "- Voice Integration\n",
      "\n",
      "#3.\n",
      "Tell me more about Automate FAQs\n",
      "\n",
      "#4.\n",
      "Provide immediate, accurate answers to frequently asked questions, reducing the need for human intervention.\n",
      "\n",
      "\n"
     ]
    }
   ],
   "source": [
    "result = process_conversational_retrieval_chain(qa_chain_cr, 'Tell me more about Automate FAQs')\n",
    "print(result)"
   ]
  },
  {
   "cell_type": "code",
   "execution_count": null,
   "id": "1db542d3-57a0-4f0c-9a0e-a49515392817",
   "metadata": {},
   "outputs": [],
   "source": []
  }
 ],
 "metadata": {
  "kernelspec": {
   "display_name": "Python 3 (ipykernel)",
   "language": "python",
   "name": "python3"
  },
  "language_info": {
   "codemirror_mode": {
    "name": "ipython",
    "version": 3
   },
   "file_extension": ".py",
   "mimetype": "text/x-python",
   "name": "python",
   "nbconvert_exporter": "python",
   "pygments_lexer": "ipython3",
   "version": "3.11.1"
  }
 },
 "nbformat": 4,
 "nbformat_minor": 5
}
