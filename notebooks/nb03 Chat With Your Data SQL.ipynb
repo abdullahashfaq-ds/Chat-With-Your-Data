{
 "cells": [
  {
   "cell_type": "markdown",
   "id": "77f0af5d-b48a-4f05-a731-84795ffbac3b",
   "metadata": {},
   "source": [
    "# CHAT WITH YOUR DATA - SQL\n",
    "\n",
    "1. [Google Palm](#Google-Palm)\n",
    "2. [SQL Database Loader](#SQL-Database-Loader)\n",
    "3. [Queries](#Queries)\n",
    "4. [Few Shot Learning](#Few-Shot-Learning)\n",
    "5. [Vector Stores & Embeddings](#Vector-Stores-&-Embeddings)\n",
    "6. [Templates](#Templates)\n",
    "7. [SQL Database Chain Q/A](#SQL-Database-Chain-Q/A)"
   ]
  },
  {
   "cell_type": "code",
   "execution_count": 1,
   "id": "84852069-3e90-48de-a158-83bde21bf710",
   "metadata": {},
   "outputs": [],
   "source": [
    "import os\n",
    "from pathlib import Path\n",
    "from dotenv import load_dotenv\n",
    "\n",
    "env_path = Path('..') / '.env'\n",
    "_ = load_dotenv(dotenv_path=env_path)\n",
    "\n",
    "db_credentials = {\n",
    "    'username': os.getenv('DB_USERNAME'),\n",
    "    'password': os.getenv('DB_PASSWORD'),\n",
    "    'host': os.getenv('DB_HOST'),\n",
    "}\n",
    "\n",
    "db_credentials['name'] = 'tshirt_sales'\n",
    "\n",
    "if not all(db_credentials.values()):\n",
    "    raise ValueError('One or more environment variables are missing.')"
   ]
  },
  {
   "cell_type": "code",
   "execution_count": 2,
   "id": "2abf130a-dbe3-418e-b0d3-f0c1a16d1048",
   "metadata": {},
   "outputs": [],
   "source": [
    "import warnings\n",
    "\n",
    "warnings.filterwarnings(\"ignore\")"
   ]
  },
  {
   "cell_type": "markdown",
   "id": "b512cc0c-984a-445e-9b94-7ae2d467ecbe",
   "metadata": {},
   "source": [
    "## Google Palm"
   ]
  },
  {
   "cell_type": "code",
   "execution_count": 3,
   "id": "8b77893e-ba47-436c-a63c-05f059db1a5f",
   "metadata": {},
   "outputs": [],
   "source": [
    "from langchain.llms import GooglePalm"
   ]
  },
  {
   "cell_type": "code",
   "execution_count": 5,
   "id": "028ed1ed-7775-4137-bb21-552b5653be02",
   "metadata": {},
   "outputs": [],
   "source": [
    "llm = GooglePalm(google_api_key=os.environ['GOOGLE_API_KEY'], temperature=0)"
   ]
  },
  {
   "cell_type": "markdown",
   "id": "07360721-204e-4f02-857b-b6c5b8504abe",
   "metadata": {},
   "source": [
    "## SQL Database Loader"
   ]
  },
  {
   "cell_type": "code",
   "execution_count": 6,
   "id": "08201f4e-6f88-4894-b3ad-af436f5040cd",
   "metadata": {},
   "outputs": [],
   "source": [
    "from langchain_experimental.sql import SQLDatabaseChain\n",
    "from langchain_community.utilities.sql_database import SQLDatabase"
   ]
  },
  {
   "cell_type": "code",
   "execution_count": 7,
   "id": "4d1678a3-d3f8-4cf1-bd94-749dc71f7dd6",
   "metadata": {},
   "outputs": [],
   "source": [
    "database_uri = f'mysql+pymysql://{db_credentials[\"username\"]}:{db_credentials[\"password\"]}@{db_credentials[\"host\"]}/{db_credentials[\"name\"]}'\n",
    "\n",
    "db = SQLDatabase.from_uri(database_uri)"
   ]
  },
  {
   "cell_type": "code",
   "execution_count": 8,
   "id": "058e0a87-570b-465f-9f27-7fa62e5d3ff2",
   "metadata": {},
   "outputs": [
    {
     "name": "stdout",
     "output_type": "stream",
     "text": [
      "Dialect: mysql\n",
      "Table Names: ['discounts', 't_shirts']\n"
     ]
    }
   ],
   "source": [
    "print(f'Dialect: {db.dialect}')\n",
    "print(f'Table Names: {db.get_usable_table_names()}')"
   ]
  },
  {
   "cell_type": "code",
   "execution_count": 9,
   "id": "85c1da41-32c9-4b6b-8396-05afb6cd3401",
   "metadata": {},
   "outputs": [
    {
     "name": "stdout",
     "output_type": "stream",
     "text": [
      "Table Info: \n",
      "CREATE TABLE discounts (\n",
      "\tdiscount_id INTEGER NOT NULL AUTO_INCREMENT, \n",
      "\tt_shirt_id INTEGER NOT NULL, \n",
      "\tpct_discount DECIMAL(5, 2), \n",
      "\tPRIMARY KEY (discount_id), \n",
      "\tCONSTRAINT discounts_ibfk_1 FOREIGN KEY(t_shirt_id) REFERENCES t_shirts (t_shirt_id), \n",
      "\tCONSTRAINT discounts_chk_1 CHECK ((`pct_discount` between 0 and 100))\n",
      ")DEFAULT CHARSET=utf8mb4 ENGINE=InnoDB COLLATE utf8mb4_0900_ai_ci\n",
      "\n",
      "/*\n",
      "3 rows from discounts table:\n",
      "discount_id\tt_shirt_id\tpct_discount\n",
      "1\t1\t10.00\n",
      "2\t2\t15.00\n",
      "3\t3\t20.00\n",
      "*/\n",
      "\n",
      "\n",
      "CREATE TABLE t_shirts (\n",
      "\tt_shirt_id INTEGER NOT NULL AUTO_INCREMENT, \n",
      "\tbrand ENUM('Van Huesen','Levi','Nike','Adidas') NOT NULL, \n",
      "\tcolor ENUM('Red','Blue','Black','White') NOT NULL, \n",
      "\tsize ENUM('XS','S','M','L','XL') NOT NULL, \n",
      "\tprice INTEGER, \n",
      "\tstock_quantity INTEGER NOT NULL, \n",
      "\tPRIMARY KEY (t_shirt_id), \n",
      "\tCONSTRAINT t_shirts_chk_1 CHECK ((`price` between 10 and 50))\n",
      ")DEFAULT CHARSET=utf8mb4 ENGINE=InnoDB COLLATE utf8mb4_0900_ai_ci\n",
      "\n",
      "/*\n",
      "3 rows from t_shirts table:\n",
      "t_shirt_id\tbrand\tcolor\tsize\tprice\tstock_quantity\n",
      "1\tLevi\tBlack\tS\t31\t10\n",
      "2\tLevi\tRed\tM\t45\t93\n",
      "3\tAdidas\tRed\tXL\t15\t88\n",
      "*/\n"
     ]
    }
   ],
   "source": [
    "print(f'Table Info: {db.table_info}')"
   ]
  },
  {
   "cell_type": "code",
   "execution_count": 10,
   "id": "88d8dc98-596b-48fa-b069-aaa90534a1b5",
   "metadata": {},
   "outputs": [],
   "source": [
    "db_chain = SQLDatabaseChain.from_llm(llm, db, verbose=True)"
   ]
  },
  {
   "cell_type": "markdown",
   "id": "8b7c9e01-945f-46bb-abe7-7c214ef4e1fe",
   "metadata": {},
   "source": [
    "## Queries"
   ]
  },
  {
   "cell_type": "code",
   "execution_count": 11,
   "id": "22eff816-6573-4d47-82de-72c0ff17ed35",
   "metadata": {},
   "outputs": [
    {
     "name": "stdout",
     "output_type": "stream",
     "text": [
      "\n",
      "\n",
      "\u001b[1m> Entering new SQLDatabaseChain chain...\u001b[0m\n",
      "SELECT stock_quantity FROM t_shirts WHERE brand = 'Nike' AND color = 'White' AND size = 'XS'\n",
      "SQLQuery:\u001b[32;1m\u001b[1;3mSELECT stock_quantity FROM t_shirts WHERE brand = 'Nike' AND color = 'White' AND size = 'XS'\u001b[0m\n",
      "SQLResult: \u001b[33;1m\u001b[1;3m[(75,)]\u001b[0m\n",
      "Answer:\u001b[32;1m\u001b[1;3m75\u001b[0m\n",
      "\u001b[1m> Finished chain.\u001b[0m\n"
     ]
    },
    {
     "data": {
      "text/plain": [
       "{'query': \"SELECT stock_quantity FROM t_shirts WHERE brand = 'Nike' AND color = 'White' AND size = 'XS'\",\n",
       " 'result': '75'}"
      ]
     },
     "execution_count": 11,
     "metadata": {},
     "output_type": "execute_result"
    }
   ],
   "source": [
    "# qn1 = db_chain.invoke(\"How many t-shirts do we have left for nike in extra small size and white color?\")\n",
    "\n",
    "qn1 = db_chain.invoke(\"SELECT stock_quantity FROM t_shirts WHERE brand = 'Nike' AND color = 'White' AND size = 'XS'\")\n",
    "qn1"
   ]
  },
  {
   "cell_type": "code",
   "execution_count": 12,
   "id": "f3d7cd4e-b204-4684-af3a-7dcd3956a892",
   "metadata": {},
   "outputs": [
    {
     "name": "stdout",
     "output_type": "stream",
     "text": [
      "\n",
      "\n",
      "\u001b[1m> Entering new SQLDatabaseChain chain...\u001b[0m\n",
      "SELECT SUM(PRICE * STOCK_QUANTITY) FROM T_SHIRTS WHERE SIZE = 'S';\n",
      "SQLQuery:\u001b[32;1m\u001b[1;3mSELECT SUM(PRICE * STOCK_QUANTITY) FROM T_SHIRTS WHERE SIZE = 'S'\u001b[0m\n",
      "SQLResult: \u001b[33;1m\u001b[1;3m[(Decimal('17101'),)]\u001b[0m\n",
      "Answer:\u001b[32;1m\u001b[1;3m17101\u001b[0m\n",
      "\u001b[1m> Finished chain.\u001b[0m\n"
     ]
    },
    {
     "data": {
      "text/plain": [
       "{'query': \"SELECT SUM(PRICE * STOCK_QUANTITY) FROM T_SHIRTS WHERE SIZE = 'S';\",\n",
       " 'result': '17101'}"
      ]
     },
     "execution_count": 12,
     "metadata": {},
     "output_type": "execute_result"
    }
   ],
   "source": [
    "# qn2 = db_chain.invoke(\"How much is the price of the inventory for all small size t-shirts?\")\n",
    "\n",
    "qn2 = db_chain.invoke(\"SELECT SUM(PRICE * STOCK_QUANTITY) FROM T_SHIRTS WHERE SIZE = 'S';\")\n",
    "qn2"
   ]
  },
  {
   "cell_type": "code",
   "execution_count": 13,
   "id": "5edfd2fb-7563-4b46-974a-9ce9a14d2a0d",
   "metadata": {},
   "outputs": [
    {
     "name": "stdout",
     "output_type": "stream",
     "text": [
      "\n",
      "\n",
      "\u001b[1m> Entering new SQLDatabaseChain chain...\u001b[0m\n",
      "\n",
      "SELECT SUM(A.TOTAL_AMOUNT * ((100 - COALESCE(DISCOUNTS.PCT_DISCOUNT, 0)) / 100)) AS TOTAL_REVENUE \n",
      "FROM\n",
      "(\n",
      "    SELECT SUM(PRICE * STOCK_QUANTITY) AS TOTAL_AMOUNT, T_SHIRT_ID \n",
      "    FROM T_SHIRTS \n",
      "    WHERE BRAND = 'Levi'\n",
      "    GROUP BY T_SHIRT_ID\n",
      ") A \n",
      "LEFT JOIN DISCOUNTS \n",
      "ON A.T_SHIRT_ID = DISCOUNTS.T_SHIRT_ID;\n",
      "\n",
      "SQLQuery:\u001b[32;1m\u001b[1;3mSELECT SUM(A.TOTAL_AMOUNT * ((100 - COALESCE(DISCOUNTS.PCT_DISCOUNT, 0)) / 100)) AS TOTAL_REVENUE \n",
      "FROM\n",
      "(\n",
      "    SELECT SUM(PRICE * STOCK_QUANTITY) AS TOTAL_AMOUNT, T_SHIRT_ID \n",
      "    FROM T_SHIRTS \n",
      "    WHERE BRAND = 'Levi'\n",
      "    GROUP BY T_SHIRT_ID\n",
      ") A \n",
      "LEFT JOIN DISCOUNTS \n",
      "ON A.T_SHIRT_ID = DISCOUNTS.T_SHIRT_ID;\u001b[0m\n",
      "SQLResult: \u001b[33;1m\u001b[1;3m[(Decimal('21453.000000'),)]\u001b[0m\n",
      "Answer:\u001b[32;1m\u001b[1;3m21453.0\u001b[0m\n",
      "\u001b[1m> Finished chain.\u001b[0m\n"
     ]
    },
    {
     "data": {
      "text/plain": [
       "{'query': \"\\nSELECT SUM(A.TOTAL_AMOUNT * ((100 - COALESCE(DISCOUNTS.PCT_DISCOUNT, 0)) / 100)) AS TOTAL_REVENUE \\nFROM\\n(\\n    SELECT SUM(PRICE * STOCK_QUANTITY) AS TOTAL_AMOUNT, T_SHIRT_ID \\n    FROM T_SHIRTS \\n    WHERE BRAND = 'Levi'\\n    GROUP BY T_SHIRT_ID\\n) A \\nLEFT JOIN DISCOUNTS \\nON A.T_SHIRT_ID = DISCOUNTS.T_SHIRT_ID;\\n\",\n",
       " 'result': '21453.0'}"
      ]
     },
     "execution_count": 13,
     "metadata": {},
     "output_type": "execute_result"
    }
   ],
   "source": [
    "# qn3 = db_chain.invoke(\"If we have to sell all the Levi’s T-shirts today with discounts applied. \\\n",
    "# How much revenue our store will generate (post discounts)?\")\n",
    "\n",
    "sql_code = \"\"\"\n",
    "SELECT SUM(A.TOTAL_AMOUNT * ((100 - COALESCE(DISCOUNTS.PCT_DISCOUNT, 0)) / 100)) AS TOTAL_REVENUE \n",
    "FROM\n",
    "(\n",
    "    SELECT SUM(PRICE * STOCK_QUANTITY) AS TOTAL_AMOUNT, T_SHIRT_ID \n",
    "    FROM T_SHIRTS \n",
    "    WHERE BRAND = 'Levi'\n",
    "    GROUP BY T_SHIRT_ID\n",
    ") A \n",
    "LEFT JOIN DISCOUNTS \n",
    "ON A.T_SHIRT_ID = DISCOUNTS.T_SHIRT_ID;\n",
    "\"\"\"\n",
    "\n",
    "qn3 = db_chain.invoke(sql_code)\n",
    "qn3"
   ]
  },
  {
   "cell_type": "code",
   "execution_count": 14,
   "id": "4baae57e-9a05-4fa3-9b13-a1a3021c9b1b",
   "metadata": {},
   "outputs": [
    {
     "name": "stdout",
     "output_type": "stream",
     "text": [
      "\n",
      "\n",
      "\u001b[1m> Entering new SQLDatabaseChain chain...\u001b[0m\n",
      "SELECT SUM(PRICE * STOCK_QUANTITY) FROM T_SHIRTS WHERE BRAND = 'Levi';\n",
      "SQLQuery:\u001b[32;1m\u001b[1;3mSELECT SUM(PRICE * STOCK_QUANTITY) FROM T_SHIRTS WHERE BRAND = 'Levi'\u001b[0m\n",
      "SQLResult: \u001b[33;1m\u001b[1;3m[(Decimal('22655'),)]\u001b[0m\n",
      "Answer:\u001b[32;1m\u001b[1;3m22655\u001b[0m\n",
      "\u001b[1m> Finished chain.\u001b[0m\n"
     ]
    },
    {
     "data": {
      "text/plain": [
       "{'query': \"SELECT SUM(PRICE * STOCK_QUANTITY) FROM T_SHIRTS WHERE BRAND = 'Levi';\",\n",
       " 'result': '22655'}"
      ]
     },
     "execution_count": 14,
     "metadata": {},
     "output_type": "execute_result"
    }
   ],
   "source": [
    "# qn4 = db_chain.invoke(\"What is the total value of Levi brand t-shirts in stock?\")\n",
    "\n",
    "qn4 = db_chain.invoke(\"SELECT SUM(PRICE * STOCK_QUANTITY) FROM T_SHIRTS WHERE BRAND = 'Levi';\")\n",
    "qn4"
   ]
  },
  {
   "cell_type": "code",
   "execution_count": 15,
   "id": "73db9d18-959b-413e-bfff-d5d7cc95eced",
   "metadata": {},
   "outputs": [
    {
     "name": "stdout",
     "output_type": "stream",
     "text": [
      "\n",
      "\n",
      "\u001b[1m> Entering new SQLDatabaseChain chain...\u001b[0m\n",
      "SELECT SUM(STOCK_QUANTITY) FROM T_SHIRTS WHERE BRAND = 'Levi' AND COLOR = 'White';\n",
      "SQLQuery:\u001b[32;1m\u001b[1;3mSELECT SUM(stock_quantity) FROM t_shirts WHERE brand = 'Levi' AND color = 'White'\u001b[0m\n",
      "SQLResult: \u001b[33;1m\u001b[1;3m[(Decimal('204'),)]\u001b[0m\n",
      "Answer:\u001b[32;1m\u001b[1;3m204\u001b[0m\n",
      "\u001b[1m> Finished chain.\u001b[0m\n"
     ]
    },
    {
     "data": {
      "text/plain": [
       "{'query': \"SELECT SUM(STOCK_QUANTITY) FROM T_SHIRTS WHERE BRAND = 'Levi' AND COLOR = 'White';\",\n",
       " 'result': '204'}"
      ]
     },
     "execution_count": 15,
     "metadata": {},
     "output_type": "execute_result"
    }
   ],
   "source": [
    "# qn5 = db_chain.invoke(\"How many white color Levi's t shirts we have available?\")\n",
    "\n",
    "qn5 = db_chain.invoke(\"SELECT SUM(STOCK_QUANTITY) FROM T_SHIRTS WHERE BRAND = 'Levi' AND COLOR = 'White';\")\n",
    "qn5"
   ]
  },
  {
   "cell_type": "markdown",
   "id": "62fd5b39-96b6-44b1-b521-d34aaf8ecd4a",
   "metadata": {},
   "source": [
    "## Few Shot Learning"
   ]
  },
  {
   "cell_type": "code",
   "execution_count": 16,
   "id": "c0a5d535-0c4c-49ca-baf6-18bff446bcf5",
   "metadata": {},
   "outputs": [],
   "source": [
    "few_shots = [\n",
    "    {\n",
    "        'Question': 'How many t-shirts do we have left for Nike in XS size and white color?',\n",
    "        'SQLQuery': qn1['query'],\n",
    "        'SQLResult': 'Result of the SQL query',\n",
    "        'Answer': qn1['result']\n",
    "    },\n",
    "    {\n",
    "        'Question': 'How much is the total price of the inventory for all S-size t-shirts?',\n",
    "        'SQLQuery': qn2['query'],\n",
    "        'SQLResult': 'Result of the SQL query',\n",
    "        'Answer': qn2['result']\n",
    "    },\n",
    "    {\n",
    "        'Question': 'If we have to sell all the Levi’s T-shirts today with discounts applied, how much revenue will our store generate (post discounts)?',\n",
    "        'SQLQuery': qn3['query'],\n",
    "        'SQLResult': 'Result of the SQL query',\n",
    "        'Answer': qn3['result']\n",
    "    },\n",
    "    {\n",
    "        'Question': 'If we have to sell all the Levi’s T-shirts today, how much revenue will our store generate without discount?',\n",
    "        'SQLQuery': qn4['query'],\n",
    "        'SQLResult': 'Result of the SQL query',\n",
    "        'Answer': qn4['result']\n",
    "    },\n",
    "    {\n",
    "        'Question': 'How many white color Levi\\'s shirts do I have?',\n",
    "        'SQLQuery': qn5['query'],\n",
    "        'SQLResult': 'Result of the SQL query',\n",
    "        'Answer': qn5['result']\n",
    "    }\n",
    "]\n"
   ]
  },
  {
   "cell_type": "markdown",
   "id": "3ae8e54a-82d6-4bad-a4ef-4015ac70ee9f",
   "metadata": {},
   "source": [
    "## Vector Stores & Embeddings"
   ]
  },
  {
   "cell_type": "code",
   "execution_count": 17,
   "id": "13a5c0be-1c8d-4532-a1ac-f1aa13081e60",
   "metadata": {},
   "outputs": [],
   "source": [
    "from langchain.vectorstores import Chroma\n",
    "from langchain.embeddings import GooglePalmEmbeddings\n",
    "from langchain.prompts import SemanticSimilarityExampleSelector"
   ]
  },
  {
   "cell_type": "code",
   "execution_count": 18,
   "id": "f4e7e494-4c49-4fd4-b6f8-454d671c9ebb",
   "metadata": {},
   "outputs": [
    {
     "data": {
      "text/plain": [
       "\"How many t-shirts do we have left for Nike in XS size and white color? SELECT stock_quantity FROM t_shirts WHERE brand = 'Nike' AND color = 'White' AND size = 'XS' Result of the SQL query 75\""
      ]
     },
     "execution_count": 18,
     "metadata": {},
     "output_type": "execute_result"
    }
   ],
   "source": [
    "to_vectorize = [' '.join(example.values()) for example in few_shots]\n",
    "to_vectorize[0]"
   ]
  },
  {
   "cell_type": "code",
   "execution_count": 19,
   "id": "db81b05f-8837-43dd-a3c3-0c02dfa196f0",
   "metadata": {},
   "outputs": [],
   "source": [
    "embeddings = GooglePalmEmbeddings()\n",
    "\n",
    "vectordb = Chroma.from_texts(to_vectorize, embeddings, metadatas=few_shots, persist_directory='../data/vector_db/chroma_sql/')"
   ]
  },
  {
   "cell_type": "code",
   "execution_count": 20,
   "id": "3cc707a0-f5ae-46bf-ac5d-e685b43ca4c6",
   "metadata": {},
   "outputs": [],
   "source": [
    "example_selector = SemanticSimilarityExampleSelector(\n",
    "    vectorstore=vectordb,\n",
    "    k=2,\n",
    ")"
   ]
  },
  {
   "cell_type": "code",
   "execution_count": 21,
   "id": "14530680-32a5-4b4b-9f74-4f85339cd5b8",
   "metadata": {},
   "outputs": [
    {
     "data": {
      "text/plain": [
       "[{'Answer': '75',\n",
       "  'Question': 'How many t-shirts do we have left for Nike in XS size and white color?',\n",
       "  'SQLQuery': \"SELECT stock_quantity FROM t_shirts WHERE brand = 'Nike' AND color = 'White' AND size = 'XS'\",\n",
       "  'SQLResult': 'Result of the SQL query'},\n",
       " {'Answer': '204',\n",
       "  'Question': \"How many white color Levi's shirts do I have?\",\n",
       "  'SQLQuery': \"SELECT SUM(STOCK_QUANTITY) FROM T_SHIRTS WHERE BRAND = 'Levi' AND COLOR = 'White';\",\n",
       "  'SQLResult': 'Result of the SQL query'}]"
      ]
     },
     "execution_count": 21,
     "metadata": {},
     "output_type": "execute_result"
    }
   ],
   "source": [
    "example_selector.select_examples({'Question': 'How many Adidas T shirts I have left in my store?'})"
   ]
  },
  {
   "cell_type": "markdown",
   "id": "3d489b83-6a00-44f8-b26c-d6cf1b971f43",
   "metadata": {},
   "source": [
    "## Templates"
   ]
  },
  {
   "cell_type": "code",
   "execution_count": 22,
   "id": "a3ad730f-d0c3-4f56-9b03-78c8d3951717",
   "metadata": {},
   "outputs": [],
   "source": [
    "from langchain.prompts import FewShotPromptTemplate\n",
    "from langchain.prompts.prompt import PromptTemplate\n",
    "from langchain.chains.sql_database.prompt import PROMPT_SUFFIX, _mysql_prompt"
   ]
  },
  {
   "cell_type": "code",
   "execution_count": 23,
   "id": "aac642b1-9363-4b68-822e-9a61bb0836a3",
   "metadata": {},
   "outputs": [
    {
     "name": "stdout",
     "output_type": "stream",
     "text": [
      "You are a MySQL expert. Given an input question, first create a syntactically correct MySQL query to run, then look at the results of the query and return the answer to the input question.\n",
      "Unless the user specifies in the question a specific number of examples to obtain, query for at most {top_k} results using the LIMIT clause as per MySQL. You can order the results to return the most informative data in the database.\n",
      "Never query for all columns from a table. You must query only the columns that are needed to answer the question. Wrap each column name in backticks (`) to denote them as delimited identifiers.\n",
      "Pay attention to use only the column names you can see in the tables below. Be careful to not query for columns that do not exist. Also, pay attention to which column is in which table.\n",
      "Pay attention to use CURDATE() function to get the current date, if the question involves \"today\".\n",
      "\n",
      "Use the following format:\n",
      "\n",
      "Question: Question here\n",
      "SQLQuery: SQL Query to run\n",
      "SQLResult: Result of the SQLQuery\n",
      "Answer: Final answer here\n",
      "\n",
      "\n"
     ]
    }
   ],
   "source": [
    "print(_mysql_prompt)"
   ]
  },
  {
   "cell_type": "code",
   "execution_count": 24,
   "id": "a7ca543a-89b3-4876-962d-03c10d0beec2",
   "metadata": {},
   "outputs": [
    {
     "name": "stdout",
     "output_type": "stream",
     "text": [
      "Only use the following tables:\n",
      "{table_info}\n",
      "\n",
      "Question: {input}\n"
     ]
    }
   ],
   "source": [
    "print(PROMPT_SUFFIX)"
   ]
  },
  {
   "cell_type": "code",
   "execution_count": 25,
   "id": "d16c75f8-37b4-46cd-a2ab-08844f55143e",
   "metadata": {},
   "outputs": [],
   "source": [
    "example_prompt = PromptTemplate(\n",
    "    input_variables=['Question', 'SQLQuery', 'SQLResult','Answer'],\n",
    "    template='\\nQuestion: {Question}\\nSQLQuery: {SQLQuery}\\nSQLResult: {SQLResult}\\nAnswer: {Answer}',\n",
    ")"
   ]
  },
  {
   "cell_type": "code",
   "execution_count": 26,
   "id": "2b09d008-7ee4-4bc3-85ff-f6755e3f09c7",
   "metadata": {},
   "outputs": [],
   "source": [
    "few_shot_prompt = FewShotPromptTemplate(\n",
    "    example_selector=example_selector,\n",
    "    example_prompt=example_prompt,\n",
    "    prefix=_mysql_prompt,\n",
    "    suffix=PROMPT_SUFFIX,\n",
    "    input_variables=['input', 'table_info', 'top_k'],\n",
    ")"
   ]
  },
  {
   "cell_type": "markdown",
   "id": "be2ab388-203b-4b21-8aef-54c2c89e2e45",
   "metadata": {},
   "source": [
    "## SQL Database Chain Q/A"
   ]
  },
  {
   "cell_type": "code",
   "execution_count": 27,
   "id": "eaceac03-5169-4954-9aba-de23dd1c1556",
   "metadata": {},
   "outputs": [],
   "source": [
    "new_chain = SQLDatabaseChain.from_llm(llm, db, verbose=True, prompt=few_shot_prompt)"
   ]
  },
  {
   "cell_type": "code",
   "execution_count": 30,
   "id": "769051b8-4315-46aa-a320-a9904ba6619c",
   "metadata": {},
   "outputs": [
    {
     "name": "stdout",
     "output_type": "stream",
     "text": [
      "\n",
      "\n",
      "\u001b[1m> Entering new SQLDatabaseChain chain...\u001b[0m\n",
      "How many white color Levi's shirt I have?\n",
      "SQLQuery:\u001b[32;1m\u001b[1;3mSELECT SUM(STOCK_QUANTITY) FROM T_SHIRTS WHERE BRAND = 'Levi' AND COLOR = 'White';\u001b[0m\n",
      "SQLResult: \u001b[33;1m\u001b[1;3m[(Decimal('204'),)]\u001b[0m\n",
      "Answer:\u001b[32;1m\u001b[1;3m204\u001b[0m\n",
      "\u001b[1m> Finished chain.\u001b[0m\n"
     ]
    },
    {
     "data": {
      "text/plain": [
       "{'query': \"How many white color Levi's shirt I have?\", 'result': '204'}"
      ]
     },
     "execution_count": 30,
     "metadata": {},
     "output_type": "execute_result"
    }
   ],
   "source": [
    "new_chain.invoke(\"How many white color Levi's shirt I have?\")"
   ]
  },
  {
   "cell_type": "code",
   "execution_count": 32,
   "id": "7f56df86-d110-4419-8dda-3b9b29d424a6",
   "metadata": {},
   "outputs": [
    {
     "name": "stdout",
     "output_type": "stream",
     "text": [
      "\n",
      "\n",
      "\u001b[1m> Entering new SQLDatabaseChain chain...\u001b[0m\n",
      "How much is the price of all white color levi t-shirts?\n",
      "SQLQuery:\u001b[32;1m\u001b[1;3mSELECT SUM(PRICE * STOCK_QUANTITY) FROM T_SHIRTS WHERE BRAND = 'Levi' AND COLOR = 'White';\u001b[0m\n",
      "SQLResult: \u001b[33;1m\u001b[1;3m[(Decimal('7844'),)]\u001b[0m\n",
      "Answer:\u001b[32;1m\u001b[1;3m7844\u001b[0m\n",
      "\u001b[1m> Finished chain.\u001b[0m\n"
     ]
    },
    {
     "data": {
      "text/plain": [
       "{'query': 'How much is the price of all white color levi t-shirts?',\n",
       " 'result': '7844'}"
      ]
     },
     "execution_count": 32,
     "metadata": {},
     "output_type": "execute_result"
    }
   ],
   "source": [
    "new_chain.invoke(\"How much is the price of all white color levi t-shirts?\")"
   ]
  },
  {
   "cell_type": "code",
   "execution_count": 33,
   "id": "0b6cc843-d0ab-4fa1-b545-1723306cd53f",
   "metadata": {},
   "outputs": [
    {
     "name": "stdout",
     "output_type": "stream",
     "text": [
      "\n",
      "\n",
      "\u001b[1m> Entering new SQLDatabaseChain chain...\u001b[0m\n",
      "If we have to sell all the Van Heuson T-shirts today with discounts applied. How much revenue  our store will generate (post discounts)?\n",
      "SQLQuery:\u001b[32;1m\u001b[1;3mSELECT SUM(A.TOTAL_AMOUNT * ((100 - COALESCE(DISCOUNTS.PCT_DISCOUNT, 0)) / 100)) AS TOTAL_REVENUE \n",
      "FROM\n",
      "(\n",
      "    SELECT SUM(PRICE * STOCK_QUANTITY) AS TOTAL_AMOUNT, T_SHIRT_ID \n",
      "    FROM T_SHIRTS \n",
      "    WHERE BRAND = 'Van Huesen'\n",
      "    GROUP BY T_SHIRT_ID\n",
      ") A \n",
      "LEFT JOIN DISCOUNTS \n",
      "ON A.T_SHIRT_ID = DISCOUNTS.T_SHIRT_ID;\u001b[0m\n",
      "SQLResult: \u001b[33;1m\u001b[1;3m[(Decimal('27755.400000'),)]\u001b[0m\n",
      "Answer:\u001b[32;1m\u001b[1;3m27755.4\u001b[0m\n",
      "\u001b[1m> Finished chain.\u001b[0m\n"
     ]
    },
    {
     "data": {
      "text/plain": [
       "{'query': 'If we have to sell all the Van Heuson T-shirts today with discounts applied. How much revenue  our store will generate (post discounts)?',\n",
       " 'result': '27755.4'}"
      ]
     },
     "execution_count": 33,
     "metadata": {},
     "output_type": "execute_result"
    }
   ],
   "source": [
    "new_chain.invoke(\"If we have to sell all the Van Heuson T-shirts today with discounts applied. \\\n",
    "How much revenue  our store will generate (post discounts)?\")"
   ]
  },
  {
   "cell_type": "code",
   "execution_count": 34,
   "id": "fb89c05b-4b8e-415d-ae0a-2fdb6efb784f",
   "metadata": {},
   "outputs": [
    {
     "name": "stdout",
     "output_type": "stream",
     "text": [
      "\n",
      "\n",
      "\u001b[1m> Entering new SQLDatabaseChain chain...\u001b[0m\n",
      "How much revenue  our store will generate by selling all Van Heuson TShirts without discount?\n",
      "SQLQuery:\u001b[32;1m\u001b[1;3mSELECT SUM(PRICE * STOCK_QUANTITY) FROM T_SHIRTS WHERE BRAND = 'Van Huesen';\u001b[0m\n",
      "SQLResult: \u001b[33;1m\u001b[1;3m[(Decimal('28811'),)]\u001b[0m\n",
      "Answer:\u001b[32;1m\u001b[1;3m28811\u001b[0m\n",
      "\u001b[1m> Finished chain.\u001b[0m\n"
     ]
    },
    {
     "data": {
      "text/plain": [
       "{'query': 'How much revenue  our store will generate by selling all Van Heuson TShirts without discount?',\n",
       " 'result': '28811'}"
      ]
     },
     "execution_count": 34,
     "metadata": {},
     "output_type": "execute_result"
    }
   ],
   "source": [
    "new_chain.invoke(\"How much revenue  our store will generate by selling all Van Heuson TShirts without discount?\")"
   ]
  },
  {
   "cell_type": "code",
   "execution_count": null,
   "id": "e7ea0a5b-6d88-4cb1-afda-d281ecf0a036",
   "metadata": {},
   "outputs": [],
   "source": []
  }
 ],
 "metadata": {
  "kernelspec": {
   "display_name": "Python 3 (ipykernel)",
   "language": "python",
   "name": "python3"
  },
  "language_info": {
   "codemirror_mode": {
    "name": "ipython",
    "version": 3
   },
   "file_extension": ".py",
   "mimetype": "text/x-python",
   "name": "python",
   "nbconvert_exporter": "python",
   "pygments_lexer": "ipython3",
   "version": "3.11.1"
  }
 },
 "nbformat": 4,
 "nbformat_minor": 5
}
