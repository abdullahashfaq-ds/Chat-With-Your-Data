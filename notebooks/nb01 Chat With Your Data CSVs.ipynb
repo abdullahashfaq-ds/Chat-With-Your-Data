{
 "cells": [
  {
   "cell_type": "markdown",
   "id": "6675be6d-f533-452f-9051-1f2ddc7555e2",
   "metadata": {},
   "source": [
    "# CHAT WITH YOUR DATA - CSVs\n",
    "\n",
    "- [Google Palm LLM](#Google-Palm-LLM)\n",
    "- [CSV Loader](#CSV-Loader)\n",
    "- [Embeddings](#Embeddings)\n",
    "- [Vector Store FAISS](#Vector-Store-FAISS)\n",
    "- [Prompt Template](#Prompt-Template)\n",
    "- [Retrieval QA Chain](#Retrieval-QA-Chain)"
   ]
  },
  {
   "cell_type": "code",
   "execution_count": 1,
   "id": "9e0bfcaf-283d-4a98-a5bc-53fc2d6f08af",
   "metadata": {},
   "outputs": [],
   "source": [
    "import os\n",
    "from pathlib import Path\n",
    "from dotenv import load_dotenv\n",
    "\n",
    "env_path = Path('..') / '.env'\n",
    "_ = load_dotenv(dotenv_path=env_path)"
   ]
  },
  {
   "cell_type": "code",
   "execution_count": 2,
   "id": "d648a3e6-564e-49d7-9130-cdb34aa7a3c3",
   "metadata": {},
   "outputs": [],
   "source": [
    "from langchain.llms import GooglePalm\n",
    "from langchain.chains import RetrievalQA\n",
    "from langchain.vectorstores import FAISS\n",
    "from langchain.prompts import PromptTemplate\n",
    "from langchain.embeddings import GooglePalmEmbeddings\n",
    "from langchain.document_loaders.csv_loader import CSVLoader"
   ]
  },
  {
   "cell_type": "code",
   "execution_count": 3,
   "id": "36914382-5af7-458a-8316-b4828ec62c4a",
   "metadata": {},
   "outputs": [],
   "source": [
    "import warnings\n",
    "\n",
    "warnings.filterwarnings(\"ignore\")"
   ]
  },
  {
   "cell_type": "markdown",
   "id": "1ea7dd16-e1df-457e-b4fc-e34003a584f0",
   "metadata": {},
   "source": [
    "### Google Palm LLM"
   ]
  },
  {
   "cell_type": "code",
   "execution_count": 5,
   "id": "9a40b618-e064-4478-8304-2569790b3cba",
   "metadata": {},
   "outputs": [],
   "source": [
    "llm = GooglePalm(google_api_key=os.environ[\"GOOGLE_API_KEY\"], temperature=0.1)"
   ]
  },
  {
   "cell_type": "code",
   "execution_count": 6,
   "id": "1a1b9816-e681-4638-a137-53cdd3615be9",
   "metadata": {},
   "outputs": [
    {
     "name": "stdout",
     "output_type": "stream",
     "text": [
      "The year is 2050. Humans have finally colonized Mars, and the first generation of Martians are now coming of age.\n",
      "\n",
      "A typical day for a Martian might start with a wake-up call from their personal AI assistant. The AI will check the weather and news, and then adjust the temperature and lighting in the bedroom to the ideal settings. After a quick shower and breakfast, the Martian might head to work at one of the many research facilities or industrial centers dotting the Martian landscape.\n",
      "\n",
      "After work, the Martian might spend some time socializing with friends or family, or simply relax by watching a movie or playing a game. In the evening, the Martian might enjoy a meal cooked by their AI assistant, or go out to one of the many restaurants in the city.\n",
      "\n",
      "Despite the challenges of living on a harsh desert planet, Martians have created a vibrant and thriving community. They are proud to be part of a new chapter in human history, and they are excited to see what the future holds for their planet.\n"
     ]
    }
   ],
   "source": [
    "response = llm('Describe a day in the life of a human living on Mars in the year 2050. (150-200 words)')\n",
    "print(response)"
   ]
  },
  {
   "cell_type": "markdown",
   "id": "30a1e23b-99d5-4a76-88a1-7517d71554f2",
   "metadata": {},
   "source": [
    "### CSV Loader"
   ]
  },
  {
   "cell_type": "code",
   "execution_count": 7,
   "id": "aacb27c1-f5b4-4589-837b-99f3693c77f5",
   "metadata": {},
   "outputs": [],
   "source": [
    "loader = CSVLoader(file_path='../data/faqs.csv', source_column=\"prompt\")\n",
    "\n",
    "data = loader.load()"
   ]
  },
  {
   "cell_type": "code",
   "execution_count": 8,
   "id": "19723126-27cb-4331-8687-987d01d4170a",
   "metadata": {},
   "outputs": [
    {
     "name": "stdout",
     "output_type": "stream",
     "text": [
      "prompt: I have never done programming in my life. Can I take this bootcamp?\n",
      "response: Yes, this is the perfect bootcamp for anyone who has never done coding and wants to build a career in the IT/Data Analytics industry or just wants to perform better in your current job or business using data.\n"
     ]
    }
   ],
   "source": [
    "print(data[0].page_content)"
   ]
  },
  {
   "cell_type": "code",
   "execution_count": 9,
   "id": "667e7c4d-c513-4e54-abcb-e0f9361cf934",
   "metadata": {},
   "outputs": [
    {
     "name": "stdout",
     "output_type": "stream",
     "text": [
      "{'source': 'I have never done programming in my life. Can I take this bootcamp?', 'row': 0}\n"
     ]
    }
   ],
   "source": [
    "print(data[0].metadata)"
   ]
  },
  {
   "cell_type": "markdown",
   "id": "51c5b8f3-d3a7-468f-88fe-01646cb864af",
   "metadata": {},
   "source": [
    "### Embeddings"
   ]
  },
  {
   "cell_type": "code",
   "execution_count": 10,
   "id": "3dfddf10-1f44-427c-aa89-a04fda850294",
   "metadata": {},
   "outputs": [],
   "source": [
    "palm_embeddings = GooglePalmEmbeddings()"
   ]
  },
  {
   "cell_type": "code",
   "execution_count": 11,
   "id": "cd922281-ddd4-4c09-84b4-87fc16adf8ab",
   "metadata": {},
   "outputs": [
    {
     "name": "stdout",
     "output_type": "stream",
     "text": [
      "Total Length: 768\n",
      "[-0.004683516, 0.02611447, 0.01816308, 0.003736937, 0.016299238]\n"
     ]
    }
   ],
   "source": [
    "sentence = 'What is your refund policy?'\n",
    "embeddings = palm_embeddings.embed_query(sentence)\n",
    "\n",
    "print(f'Total Length: {len(embeddings)}')\n",
    "print(embeddings[:5])"
   ]
  },
  {
   "cell_type": "markdown",
   "id": "f375d548-2cd4-4f39-9e86-6af23d736179",
   "metadata": {},
   "source": [
    "### Vector Store FAISS"
   ]
  },
  {
   "cell_type": "code",
   "execution_count": 12,
   "id": "907d19f3-f014-4580-8352-43eff61f4647",
   "metadata": {},
   "outputs": [],
   "source": [
    "vectordb = FAISS.from_documents(\n",
    "    documents=data,\n",
    "    embedding=palm_embeddings\n",
    ")\n",
    "\n",
    "retriever = vectordb.as_retriever(score_threshold=0.7)"
   ]
  },
  {
   "cell_type": "code",
   "execution_count": 13,
   "id": "f3b38a5e-b0e4-4863-bda2-cd7bb69a67aa",
   "metadata": {
    "scrolled": true
   },
   "outputs": [
    {
     "name": "stdout",
     "output_type": "stream",
     "text": [
      "#1:\n",
      "prompt: Do you provide any virtual internship?\n",
      "response: Yes\n",
      "{'source': 'Do you provide any virtual internship?', 'row': 14}\n",
      "\n",
      "\n",
      "#2:\n",
      "prompt: Do we have an EMI option?\n",
      "response: No\n",
      "{'source': 'Do we have an EMI option?', 'row': 13}\n",
      "\n",
      "\n",
      "#3:\n",
      "prompt: Do you provide any job assistance?\n",
      "response: Yes, We help you with resume and interview preparation along with that we help you in building online credibility, and based on requirements we refer candidates to potential recruiters.\n",
      "{'source': 'Do you provide any job assistance?', 'row': 11}\n",
      "\n",
      "\n",
      "#4:\n",
      "prompt: How can I contact the instructors for any doubts/support?\n",
      "response: We have created every lecture with a motive to explain everything in an easy-to-understand manner. While working on these lectures you could make mistakes in steps or have some doubts. You need to commit yourself to hold patience, make efforts & diagnose the errors yourself by googling in order to become truly job ready. For any questions, that Google cannot answer or if you hit a wall - we got you covered! You can join our active discord community. which is a dedicated platform to discuss & clear your doubts with fellow learners & mentors.\n",
      "{'source': 'How can I contact the instructors for any doubts/support?', 'row': 5}\n",
      "\n",
      "\n"
     ]
    }
   ],
   "source": [
    "relevant_docs = retriever.get_relevant_documents(\"Do you guys provide internship and also do you offer EMI payments?\")\n",
    "\n",
    "for i in range(len(relevant_docs)):\n",
    "    print(f'#{i+1}:')\n",
    "    print(relevant_docs[i].page_content)\n",
    "    print(relevant_docs[i].metadata)\n",
    "    print('\\n')"
   ]
  },
  {
   "cell_type": "markdown",
   "id": "31354c62-cf68-424f-80d5-0e614fe0d525",
   "metadata": {},
   "source": [
    "### Prompt Template"
   ]
  },
  {
   "cell_type": "code",
   "execution_count": 14,
   "id": "c3a0ecc6-23b9-4f9f-b4fa-c32c86667c54",
   "metadata": {},
   "outputs": [],
   "source": [
    "prompt_template = \"\"\"Given the following context and a question, generate an answer based on this context only.\n",
    "In the answer try to provide as much text as possible from \"response\" section in the source document context without making much changes.\n",
    "If the answer is not found in the context, kindly state \"I don't know.\" Don't try to make up an answer.\n",
    "\n",
    "CONTEXT: {context}\n",
    "\n",
    "QUESTION: {question}\"\"\"\n",
    "\n",
    "PROMPT = PromptTemplate(\n",
    "    template=prompt_template, input_variables=[\"context\", \"question\"]\n",
    ")\n",
    "chain_type_kwargs = {\"prompt\": PROMPT}"
   ]
  },
  {
   "cell_type": "markdown",
   "id": "5a0175fc-a9b2-46b4-9fe9-1df1bff9d468",
   "metadata": {},
   "source": [
    "### Retrieval QA Chain"
   ]
  },
  {
   "cell_type": "code",
   "execution_count": 15,
   "id": "aa84ce15-2c75-47ec-ae71-fae6e550ea76",
   "metadata": {},
   "outputs": [],
   "source": [
    "chain = RetrievalQA.from_chain_type(\n",
    "    llm=llm,\n",
    "    chain_type=\"stuff\",\n",
    "    retriever=retriever,\n",
    "    input_key=\"query\",\n",
    "    return_source_documents=True,\n",
    "    chain_type_kwargs=chain_type_kwargs,\n",
    ")"
   ]
  },
  {
   "cell_type": "code",
   "execution_count": 16,
   "id": "0839e538-1612-4e9e-bbfd-5e62471dbcf2",
   "metadata": {},
   "outputs": [],
   "source": [
    "def get_response(query):\n",
    "    response = chain(query)\n",
    "\n",
    "    print(f'Query: {response[\"query\"]}\\n')\n",
    "    print(f'Result: {response[\"result\"]}\\n')\n",
    "    \n",
    "    relevant_docs = response['source_documents']\n",
    "    for i in range(len(relevant_docs)):\n",
    "        print(f'#{i+1}:')\n",
    "        print(relevant_docs[i].page_content)\n",
    "        print(relevant_docs[i].metadata)\n",
    "        print('\\n')"
   ]
  },
  {
   "cell_type": "code",
   "execution_count": 17,
   "id": "478a54f2-8147-4f45-86f2-84dba3eaee37",
   "metadata": {
    "scrolled": true
   },
   "outputs": [
    {
     "name": "stdout",
     "output_type": "stream",
     "text": [
      "Query: Do you provide job assistance and also do you provide job gurantee?\n",
      "\n",
      "Result: Yes, We help you with resume and interview preparation along with that we help you in building online credibility, and based on requirements we refer candidates to potential recruiters. The courses included in this bootcamp are done by 9000+ learners and many of them have secured a job which gives us ample confidence that you will be able to get a job. However, we want to be honest and do not want to make any impractical promises! Our guarantee is to prepare you for the job market by teaching the most relevant skills, knowledge & timeless principles good enough to fetch the job.\n",
      "\n",
      "#1:\n",
      "prompt: Do you provide any job assistance?\n",
      "response: Yes, We help you with resume and interview preparation along with that we help you in building online credibility, and based on requirements we refer candidates to potential recruiters.\n",
      "{'source': 'Do you provide any job assistance?', 'row': 11}\n",
      "\n",
      "\n",
      "#2:\n",
      "prompt: Do you provide any virtual internship?\n",
      "response: Yes\n",
      "{'source': 'Do you provide any virtual internship?', 'row': 14}\n",
      "\n",
      "\n",
      "#3:\n",
      "prompt: Will this bootcamp guarantee me a job?\n",
      "response: The courses included in this bootcamp are done by 9000+ learners and many of them have secured a job which gives us ample confidence that you will be able to get a job. However, we want to be honest and do not want to make any impractical promises! Our guarantee is to prepare you for the job market by teaching the most relevant skills, knowledge & timeless principles good enough to fetch the job.\n",
      "{'source': 'Will this bootcamp guarantee me a job?', 'row': 15}\n",
      "\n",
      "\n",
      "#4:\n",
      "prompt: Will this course guarantee me a job?\n",
      "response: We created a much lighter version of this course on YouTube available for free (click this link) and many people gave us feedback that they were able to fetch jobs (see testimonials). Now this paid course is at least 5x better than the YouTube course which gives us ample confidence that you will be able to get a job. However, we want to be honest and do not want to make any impractical promises! Our guarantee is to prepare you for the job market by teaching the most relevant skills, knowledge & timeless principles good enough to fetch the job.\n",
      "{'source': 'Will this course guarantee me a job?', 'row': 33}\n",
      "\n",
      "\n"
     ]
    }
   ],
   "source": [
    "get_response('Do you provide job assistance and also do you provide job gurantee?')"
   ]
  },
  {
   "cell_type": "code",
   "execution_count": 18,
   "id": "86039676-5fc3-492f-b577-32309940c1eb",
   "metadata": {
    "scrolled": true
   },
   "outputs": [
    {
     "name": "stdout",
     "output_type": "stream",
     "text": [
      "Query: Do you have JavaScript course?\n",
      "\n",
      "Result: I don't know.\n",
      "\n",
      "#1:\n",
      "prompt: Do you provide any virtual internship?\n",
      "response: Yes\n",
      "{'source': 'Do you provide any virtual internship?', 'row': 14}\n",
      "\n",
      "\n",
      "#2:\n",
      "prompt: Is there any prerequisite for taking this course?\n",
      "response: The only prerequisite is that you need to have a functional laptop with at least 4GB ram, internet connection and a thrill to learn data analysis.\n",
      "{'source': 'Is there any prerequisite for taking this course?', 'row': 35}\n",
      "\n",
      "\n",
      "#3:\n",
      "prompt: Will this course guarantee me a job?\n",
      "response: We created a much lighter version of this course on YouTube available for free (click this link) and many people gave us feedback that they were able to fetch jobs (see testimonials). Now this paid course is at least 5x better than the YouTube course which gives us ample confidence that you will be able to get a job. However, we want to be honest and do not want to make any impractical promises! Our guarantee is to prepare you for the job market by teaching the most relevant skills, knowledge & timeless principles good enough to fetch the job.\n",
      "{'source': 'Will this course guarantee me a job?', 'row': 33}\n",
      "\n",
      "\n",
      "#4:\n",
      "prompt: Can I add this course to my resume? If Yes, how?\n",
      "response: Absolutely, we have a section in this course explaining how you can add the learnings from this course in your resume that will appeal to the hiring team.\n",
      "{'source': 'Can I add this course to my resume? If Yes, how?', 'row': 34}\n",
      "\n",
      "\n"
     ]
    }
   ],
   "source": [
    "get_response('Do you have JavaScript course?')"
   ]
  },
  {
   "cell_type": "code",
   "execution_count": 19,
   "id": "e4fa1d1b-adff-445b-855a-8e69ccb6b8c5",
   "metadata": {
    "scrolled": true
   },
   "outputs": [
    {
     "name": "stdout",
     "output_type": "stream",
     "text": [
      "Query: Do you guys provide internship and also do you offer EMI payments?\n",
      "\n",
      "Result: Yes, we provide virtual internship and we don't offer EMI payments.\n",
      "\n",
      "#1:\n",
      "prompt: Do you provide any virtual internship?\n",
      "response: Yes\n",
      "{'source': 'Do you provide any virtual internship?', 'row': 14}\n",
      "\n",
      "\n",
      "#2:\n",
      "prompt: Do we have an EMI option?\n",
      "response: No\n",
      "{'source': 'Do we have an EMI option?', 'row': 13}\n",
      "\n",
      "\n",
      "#3:\n",
      "prompt: Do you provide any job assistance?\n",
      "response: Yes, We help you with resume and interview preparation along with that we help you in building online credibility, and based on requirements we refer candidates to potential recruiters.\n",
      "{'source': 'Do you provide any job assistance?', 'row': 11}\n",
      "\n",
      "\n",
      "#4:\n",
      "prompt: How can I contact the instructors for any doubts/support?\n",
      "response: We have created every lecture with a motive to explain everything in an easy-to-understand manner. While working on these lectures you could make mistakes in steps or have some doubts. You need to commit yourself to hold patience, make efforts & diagnose the errors yourself by googling in order to become truly job ready. For any questions, that Google cannot answer or if you hit a wall - we got you covered! You can join our active discord community. which is a dedicated platform to discuss & clear your doubts with fellow learners & mentors.\n",
      "{'source': 'How can I contact the instructors for any doubts/support?', 'row': 5}\n",
      "\n",
      "\n"
     ]
    }
   ],
   "source": [
    "get_response('Do you guys provide internship and also do you offer EMI payments?')"
   ]
  },
  {
   "cell_type": "code",
   "execution_count": null,
   "id": "06d03b7c-0f44-4c36-bd13-64e9f089c95f",
   "metadata": {},
   "outputs": [],
   "source": []
  }
 ],
 "metadata": {
  "kernelspec": {
   "display_name": "Python 3 (ipykernel)",
   "language": "python",
   "name": "python3"
  },
  "language_info": {
   "codemirror_mode": {
    "name": "ipython",
    "version": 3
   },
   "file_extension": ".py",
   "mimetype": "text/x-python",
   "name": "python",
   "nbconvert_exporter": "python",
   "pygments_lexer": "ipython3",
   "version": "3.11.1"
  }
 },
 "nbformat": 4,
 "nbformat_minor": 5
}
